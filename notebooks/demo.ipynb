{
 "cells": [
  {
   "cell_type": "markdown",
   "id": "44efa971",
   "metadata": {},
   "source": [
    "# Demo notebook "
   ]
  },
  {
   "cell_type": "code",
   "execution_count": 1,
   "id": "4182bf10",
   "metadata": {},
   "outputs": [],
   "source": [
    "# Test import of local package \"nk-uv-demo\"\n",
    "import uv_demo"
   ]
  },
  {
   "cell_type": "code",
   "execution_count": 2,
   "id": "a3fdf1ec",
   "metadata": {},
   "outputs": [
    {
     "name": "stdout",
     "output_type": "stream",
     "text": [
      "Hello from uv-demo!\n",
      "Version: 0.0.1.dev0+d20251020\n"
     ]
    }
   ],
   "source": [
    "# run entrypoint\n",
    "uv_demo.main()"
   ]
  }
 ],
 "metadata": {
  "kernelspec": {
   "display_name": "uv-demo",
   "language": "python",
   "name": "python3"
  },
  "language_info": {
   "codemirror_mode": {
    "name": "ipython",
    "version": 3
   },
   "file_extension": ".py",
   "mimetype": "text/x-python",
   "name": "python",
   "nbconvert_exporter": "python",
   "pygments_lexer": "ipython3",
   "version": "3.12.3"
  }
 },
 "nbformat": 4,
 "nbformat_minor": 5
}
